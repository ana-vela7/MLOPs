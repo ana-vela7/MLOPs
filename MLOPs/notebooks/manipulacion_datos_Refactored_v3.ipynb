{
 "cells": [
  {
   "cell_type": "code",
   "execution_count": null,
   "metadata": {},
   "outputs": [],
   "source": [
    "import pandas as pd\n",
    "import numpy as np\n",
    "import seaborn as sns\n",
    "import matplotlib.pyplot as plt\n",
    "from sklearn.preprocessing import StandardScaler\n",
    "from sklearn.compose import ColumnTransformer\n",
    "from sklearn.ensemble import GradientBoostingRegressor\n",
    "from sklearn.decomposition import PCA\n",
    "from sklearn.metrics import mean_absolute_error, r2_score\n",
    "from sklearn.pipeline import Pipeline\n",
    "from sklearn.model_selection import cross_val_score, train_test_split"
   ]
  },
  {
   "cell_type": "markdown",
   "metadata": {},
   "source": [
    "# Creating the classes"
   ]
  },
  {
   "cell_type": "markdown",
   "metadata": {},
   "source": [
    "### Data Explorer"
   ]
  },
  {
   "cell_type": "code",
   "execution_count": 27,
   "metadata": {},
   "outputs": [],
   "source": [
    "class DataExplorer:\n",
    "    @staticmethod\n",
    "    def load_data(filepath):\n",
    "        df = pd.read_csv(filepath)\n",
    "\n",
    "    @staticmethod\n",
    "    def explore_data(data):\n",
    "        print(\"First 5 rows of the dataset:\")\n",
    "        print(data.head().T)\n",
    "        print(\"\\nStatistical summary:\")\n",
    "        print(data.describe())\n",
    "        print(\"\\nInformation about the dataset:\")\n",
    "        print(data.info())\n",
    "        print(\"\\nPercentage of missing values in each column:\")\n",
    "        print(data.isna().mean() * 100)\n",
    "\n",
    "    @staticmethod\n",
    "    def plot_correlation_matrix(data):\n",
    "        numericas = data.select_dtypes(exclude='object')\n",
    "        matriz_correlacion = numericas.corr()\n",
    "        plt.figure(figsize=(20, 10))\n",
    "        sns.heatmap (matriz_correlacion, annot=True, fmt=\".2f\")\n",
    "        plt.title('Mapa de Correlacion')\n",
    "        plt.show()\n",
    "\n",
    "    @staticmethod\n",
    "    def plot_histograms(data):\n",
    "        data.hist(bins=15, figsize=(15, 15))\n",
    "        plt.show()\n",
    "\n",
    "    @staticmethod\n",
    "    def plot_feature_relationships(data, target):\n",
    "        for column in data.columns[:-1]:\n",
    "            plt.figure(figsize=(8, 4))\n",
    "            sns.scatterplot(x=column, y=target, data=data)\n",
    "            plt.title(f'Relationship between total_UPDRS and {column}')\n",
    "            plt.show()\n",
    "\n"
   ]
  },
  {
   "cell_type": "markdown",
   "metadata": {},
   "source": [
    "### Pakinson total_UPDRS Model"
   ]
  },
  {
   "cell_type": "code",
   "execution_count": null,
   "metadata": {},
   "outputs": [],
   "source": [
    "class ParkinsonUPDRSModel:\n",
    "    def __init__(self, filepath):\n",
    "        self.filepath = filepath\n",
    "\n",
    "    def load_data(self):\n",
    "        # Load the data\n",
    "        self.data = pd.read_csv(self.filepath)\n",
    "        X = self.data.select_dtypes(include=['float64', 'int64']).drop(columns=['motor_UPDRS', 'total_UPDRS', 'sex'])\n",
    "        y = self.data['total_UPDRS']\n",
    "\n",
    "        # Removing High correlated columns\n",
    "        correlated_cols = []\n",
    "        for col in X:\n",
    "            if 'total_UPDRS' in col or 'Jitter:RAP' in col or 'Jitter:PPQ5' in col or 'Jitter:DDP' in col or 'Shimmer(dB)' in col or 'Shimmer:APQ3' in col or 'Shimmer:APQ5' in col or 'Shimmer:APQ11' in col or 'Shimmer:DDA' in col:\n",
    "                correlated_cols.append(col)\n",
    "\n",
    "        # Define preprocessing\n",
    "        preprocessing = ColumnTransformer(\n",
    "            transformers=[\n",
    "                ('drop_correlated_cols', 'drop', correlated_cols)\n",
    "            ],\n",
    "            remainder='passthrough'\n",
    "        )\n",
    "\n",
    "        pipeline = Pipeline([\n",
    "            ('preprocessing', preprocessing),\n",
    "            ('scaler', StandardScaler()),\n",
    "            ('pca', PCA(n_components=0.90))\n",
    "        ])\n",
    "        \n",
    "        # Train-test split\n",
    "        self.X_train, self.X_test, self.y_train, self.y_test = train_test_split(X, y, test_size=0.2, random_state=42)\n",
    "        \n",
    "        self.X_train = pipeline.fit_transform(self.X_train)\n",
    "        self.X_test = pipeline.transform(self.X_test)\n",
    "        return self\n",
    "    \n",
    "    def train_model(self):\n",
    "        # GradientBoostingRegressor model\n",
    "        self.model = GradientBoostingRegressor(n_estimators=100, learning_rate=0.1, max_depth=3, random_state=42)\n",
    "        self.model.fit(self.X_train, self.y_train)\n",
    "        return self\n",
    "    \n",
    "    def evaluate_model(self):\n",
    "        # Evaluate on the test set\n",
    "        y_pred = self.model.predict(self.X_test)\n",
    "        mae = mean_absolute_error(self.y_test, y_pred)\n",
    "        r2 = r2_score(self.y_test, y_pred)\n",
    "        print(f'Mean Absolute Error: {mae}')\n",
    "        print(f'R2 Score: {r2}')\n",
    "\n",
    "    def cross_validate_model(self, cv=5):\n",
    "        # Cross-validate the stacked model\n",
    "        scores = cross_val_score(self.model, self.X_train, self.y_train, cv=cv, scoring='r2')\n",
    "        print(\"Average Accuracy with CV:\", np.mean(scores))"
   ]
  },
  {
   "cell_type": "markdown",
   "metadata": {},
   "source": [
    "# Executing the code"
   ]
  },
  {
   "cell_type": "code",
   "execution_count": 29,
   "metadata": {},
   "outputs": [
    {
     "name": "stdout",
     "output_type": "stream",
     "text": [
      "Mean Absolute Error: 5.150695631804961\n",
      "R2 Score: 0.616928781521296\n",
      "Average Accuracy with CV: 0.588167917718408\n"
     ]
    }
   ],
   "source": [
    "filepath=r'D:\\DevOps\\MLOpsPactices\\Parkinson\\parkinsons_updrs.data'\n",
    "\n",
    "model = ParkinsonUPDRSModel(filepath)\n",
    "model.load_data()\n",
    "model.train_model()\n",
    "model.evaluate_model()\n",
    "model.cross_validate_model()"
   ]
  }
 ],
 "metadata": {
  "kernelspec": {
   "display_name": "myenv",
   "language": "python",
   "name": "python3"
  },
  "language_info": {
   "codemirror_mode": {
    "name": "ipython",
    "version": 3
   },
   "file_extension": ".py",
   "mimetype": "text/x-python",
   "name": "python",
   "nbconvert_exporter": "python",
   "pygments_lexer": "ipython3",
   "version": "3.11.4"
  }
 },
 "nbformat": 4,
 "nbformat_minor": 2
}
